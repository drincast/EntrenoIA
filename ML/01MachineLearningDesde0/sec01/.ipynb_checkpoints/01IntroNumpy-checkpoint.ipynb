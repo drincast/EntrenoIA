{
 "cells": [
  {
   "cell_type": "code",
   "execution_count": 1,
   "metadata": {},
   "outputs": [],
   "source": [
    "import numpy as np"
   ]
  },
  {
   "cell_type": "markdown",
   "metadata": {},
   "source": [
    "$Definir Arrays$"
   ]
  },
  {
   "cell_type": "code",
   "execution_count": 2,
   "metadata": {},
   "outputs": [],
   "source": [
    "a = np.full((2, 3, 4), 9)"
   ]
  },
  {
   "cell_type": "code",
   "execution_count": 3,
   "metadata": {},
   "outputs": [
    {
     "data": {
      "text/plain": [
       "array([[[9, 9, 9, 9],\n",
       "        [9, 9, 9, 9],\n",
       "        [9, 9, 9, 9]],\n",
       "\n",
       "       [[9, 9, 9, 9],\n",
       "        [9, 9, 9, 9],\n",
       "        [9, 9, 9, 9]]])"
      ]
     },
     "execution_count": 3,
     "metadata": {},
     "output_type": "execute_result"
    }
   ],
   "source": [
    "a"
   ]
  },
  {
   "cell_type": "code",
   "execution_count": 4,
   "metadata": {},
   "outputs": [
    {
     "data": {
      "text/plain": [
       "array([[[0.9022852 , 0.29209986, 0.8987648 , 0.02186828],\n",
       "        [0.81665435, 0.77646677, 0.34455918, 0.27922036],\n",
       "        [0.6154927 , 0.57317793, 0.158081  , 0.80306962]],\n",
       "\n",
       "       [[0.05231172, 0.34709621, 0.0877049 , 0.03498625],\n",
       "        [0.95805166, 0.97221085, 0.36931808, 0.25563227],\n",
       "        [0.41322632, 0.50895249, 0.19624741, 0.41849282]]])"
      ]
     },
     "execution_count": 4,
     "metadata": {},
     "output_type": "execute_result"
    }
   ],
   "source": [
    "np.random.rand(2, 3, 4)    "
   ]
  },
  {
   "cell_type": "code",
   "execution_count": 5,
   "metadata": {},
   "outputs": [
    {
     "data": {
      "text/plain": [
       "array([[[0.79893058, 0.99143225, 0.51000899, 0.09161019],\n",
       "        [0.39678159, 0.30280337, 0.11379812, 0.17484002],\n",
       "        [0.93129878, 0.62586829, 0.95708131, 0.83939558]],\n",
       "\n",
       "       [[0.06255221, 0.70124329, 0.92667519, 0.56815559],\n",
       "        [0.01343604, 0.95028842, 0.69731909, 0.88302296],\n",
       "        [0.68029626, 0.02893167, 0.30405974, 0.24812609]]])"
      ]
     },
     "execution_count": 5,
     "metadata": {},
     "output_type": "execute_result"
    }
   ],
   "source": [
    "b = np.random.rand(2, 3, 4)\n",
    "b"
   ]
  },
  {
   "cell_type": "code",
   "execution_count": 13,
   "metadata": {},
   "outputs": [
    {
     "data": {
      "text/plain": [
       "(array([[[9, 9, 9, 9],\n",
       "         [9, 9, 9, 9],\n",
       "         [9, 9, 9, 9]],\n",
       " \n",
       "        [[9, 9, 9, 9],\n",
       "         [9, 9, 9, 9],\n",
       "         [9, 9, 9, 9]]]),\n",
       " array([[[0.79893058, 0.99143225, 0.51000899, 0.09161019],\n",
       "         [0.39678159, 0.30280337, 0.11379812, 0.17484002],\n",
       "         [0.93129878, 0.62586829, 0.95708131, 0.83939558]],\n",
       " \n",
       "        [[0.06255221, 0.70124329, 0.92667519, 0.56815559],\n",
       "         [0.01343604, 0.95028842, 0.69731909, 0.88302296],\n",
       "         [0.68029626, 0.02893167, 0.30405974, 0.24812609]]]))"
      ]
     },
     "execution_count": 13,
     "metadata": {},
     "output_type": "execute_result"
    }
   ],
   "source": [
    "a, b"
   ]
  },
  {
   "cell_type": "markdown",
   "metadata": {},
   "source": [
    "\n",
    "\\title{Definición de Funciones}\n"
   ]
  },
  {
   "cell_type": "markdown",
   "metadata": {},
   "source": [
    "\n",
    "\n",
    "\\title{Definición de Funciones}\n",
    "\n"
   ]
  },
  {
   "cell_type": "markdown",
   "metadata": {},
   "source": [
    "## Definición de Funciones"
   ]
  },
  {
   "cell_type": "code",
   "execution_count": 14,
   "metadata": {},
   "outputs": [
    {
     "data": {
      "text/plain": [
       "array([[ 0.,  2.,  4.,  6.,  8.],\n",
       "       [ 1.,  3.,  5.,  7.,  9.],\n",
       "       [ 2.,  4.,  6.,  8., 10.]])"
      ]
     },
     "execution_count": 14,
     "metadata": {},
     "output_type": "execute_result"
    }
   ],
   "source": [
    "#definición de función\n",
    "def nombreFuncion(x, y):\n",
    "    return x + 2 * y\n",
    "np.fromfunction(nombreFuncion, (3, 5))"
   ]
  },
  {
   "cell_type": "markdown",
   "metadata": {},
   "source": [
    "\n",
    "### Array unidemensionales"
   ]
  },
  {
   "cell_type": "code",
   "execution_count": 16,
   "metadata": {},
   "outputs": [
    {
     "name": "stdout",
     "output_type": "stream",
     "text": [
      "Shape: (9,)\n",
      "arrayUni: [1 2 3 4 5 6 7 8 9]\n"
     ]
    }
   ],
   "source": [
    "arrayUni = np.array([1,2,3,4,5,6,7,8,9])\n",
    "print(\"Shape:\", arrayUni.shape)\n",
    "print(\"arrayUni:\", arrayUni)"
   ]
  },
  {
   "cell_type": "code",
   "execution_count": 18,
   "metadata": {},
   "outputs": [
    {
     "data": {
      "text/plain": [
       "4"
      ]
     },
     "execution_count": 18,
     "metadata": {},
     "output_type": "execute_result"
    }
   ],
   "source": [
    "#obtener un elemento\n",
    "arrayUni[3]\n"
   ]
  },
  {
   "cell_type": "code",
   "execution_count": 19,
   "metadata": {},
   "outputs": [
    {
     "data": {
      "text/plain": [
       "array([3, 4, 5])"
      ]
     },
     "execution_count": 19,
     "metadata": {},
     "output_type": "execute_result"
    }
   ],
   "source": [
    "#obtener los elementos de la posicion 3 a 6\n",
    "arrayUni[2:5]"
   ]
  },
  {
   "cell_type": "code",
   "execution_count": 20,
   "metadata": {},
   "outputs": [
    {
     "data": {
      "text/plain": [
       "array([1, 3, 5, 7, 9])"
      ]
     },
     "execution_count": 20,
     "metadata": {},
     "output_type": "execute_result"
    }
   ],
   "source": [
    "#obtener elementos segun rango, salto entre elementos\n",
    "arrayUni[0::2]"
   ]
  },
  {
   "cell_type": "markdown",
   "metadata": {},
   "source": [
    "\n",
    "### Array multidimensional"
   ]
  },
  {
   "cell_type": "code",
   "execution_count": 22,
   "metadata": {},
   "outputs": [
    {
     "name": "stdout",
     "output_type": "stream",
     "text": [
      "Shape:  (2, 5)\n",
      "arrayMulti [[0 1 2 3 4]\n",
      " [5 6 7 8 9]]\n"
     ]
    }
   ],
   "source": [
    "arrayMulti = np.array([[0,1,2,3,4], [5,6,7,8,9]])\n",
    "print(\"Shape: \", arrayMulti.shape)\n",
    "print('arrayMulti', arrayMulti)"
   ]
  },
  {
   "cell_type": "code",
   "execution_count": 24,
   "metadata": {},
   "outputs": [
    {
     "name": "stdout",
     "output_type": "stream",
     "text": [
      "arrayMulti[0,3] =  3\n",
      "arrayMulti[1,3] =  8\n"
     ]
    }
   ],
   "source": [
    "#accediendo a elementos, cuarto elmento del segundo axis\n",
    "print('arrayMulti[0,3] = ', arrayMulti[0,3])\n",
    "print('arrayMulti[1,3] = ', arrayMulti[1,3])"
   ]
  },
  {
   "cell_type": "code",
   "execution_count": 26,
   "metadata": {},
   "outputs": [
    {
     "name": "stdout",
     "output_type": "stream",
     "text": [
      "todo la fila del primer axis arrayMulti[1, :] =  [5 6 7 8 9]\n"
     ]
    }
   ],
   "source": [
    "print('todo la fila del primer axis arrayMulti[1, :] = ', arrayMulti[1,:])"
   ]
  },
  {
   "cell_type": "code",
   "execution_count": 30,
   "metadata": {},
   "outputs": [
    {
     "name": "stdout",
     "output_type": "stream",
     "text": [
      "cuarto elemento de cada segundo axis [3 8]\n"
     ]
    }
   ],
   "source": [
    "#accediendo al cuarto elemento del cada segundo axis \"arrayM[0(elemento inicial 1axis1):n(elemento final 1axisn), m(elemento del 2axis)]\"\n",
    "print('cuarto elemento de cada segundo axis', arrayMulti[0:2, 3])"
   ]
  },
  {
   "cell_type": "code",
   "execution_count": 36,
   "metadata": {},
   "outputs": [
    {
     "name": "stdout",
     "output_type": "stream",
     "text": [
      "Shape: (28,)\n",
      "Array: [ 0  1  2  3  4  5  6  7  8  9 10 11 12 13 14 15 16 17 18 19 20 21 22 23\n",
      " 24 25 26 27]\n"
     ]
    }
   ],
   "source": [
    "#Crear array unidimensional con 28 elementos\n",
    "array28 = np.arange(28)\n",
    "print(\"Shape:\", array28.shape)\n",
    "print(\"Array:\", array28)"
   ]
  },
  {
   "cell_type": "code",
   "execution_count": 37,
   "metadata": {},
   "outputs": [
    {
     "name": "stdout",
     "output_type": "stream",
     "text": [
      "Shape: (7, 4)\n",
      "Array: [[ 0  1  2  3]\n",
      " [ 4  5  6  7]\n",
      " [ 8  9 10 11]\n",
      " [12 13 14 15]\n",
      " [16 17 18 19]\n",
      " [20 21 22 23]\n",
      " [24 25 26 27]]\n"
     ]
    }
   ],
   "source": [
    "#modificando dimenciones del array\n",
    "array28.shape = (7,4)\n",
    "print(\"Shape:\", array28.shape)\n",
    "print(\"Array:\", array28)"
   ]
  },
  {
   "cell_type": "code",
   "execution_count": 42,
   "metadata": {},
   "outputs": [
    {
     "name": "stdout",
     "output_type": "stream",
     "text": [
      "Shape: (4, 7)\n",
      "Array: [[ 0  1  2  3  4  5  6]\n",
      " [ 7  8  9 10 11 12 13]\n",
      " [14 15 16 17 18 19 20]\n",
      " [21 22 23 24 25 26 27]]\n"
     ]
    }
   ],
   "source": [
    "#creardo una copia de referencia al array\n",
    "array28_cp = array28.reshape(4,7)\n",
    "print(\"Shape:\", array28_cp.shape)\n",
    "print(\"Array:\", array28_cp)\n"
   ]
  },
  {
   "cell_type": "code",
   "execution_count": 45,
   "metadata": {},
   "outputs": [
    {
     "name": "stdout",
     "output_type": "stream",
     "text": [
      "array28_cp[0,2] =  50\n"
     ]
    }
   ],
   "source": [
    "array28_cp[0,2] = 50\n",
    "print(\"array28_cp[0,2] = \", array28_cp[0,2])"
   ]
  },
  {
   "cell_type": "code",
   "execution_count": 46,
   "metadata": {},
   "outputs": [
    {
     "name": "stdout",
     "output_type": "stream",
     "text": [
      "array28[0,2] =  50\n"
     ]
    }
   ],
   "source": [
    "#revisar que modifico el array original\n",
    "print(\"array28[0,2] = \", array28[0,2])"
   ]
  },
  {
   "cell_type": "code",
   "execution_count": 48,
   "metadata": {},
   "outputs": [
    {
     "name": "stdout",
     "output_type": "stream",
     "text": [
      "array1 =  [ 2  4  6  8 10 12 14 16 18]\n",
      "array2 =  [0 1 2 3 4 5 6 7]\n"
     ]
    }
   ],
   "source": [
    "array1 = np.arange(2,20,2)\n",
    "array2 = np.arange(8)\n",
    "print(\"array1 = \", array1)\n",
    "print(\"array2 = \", array2)"
   ]
  },
  {
   "cell_type": "code",
   "execution_count": null,
   "metadata": {},
   "outputs": [],
   "source": []
  }
 ],
 "metadata": {
  "kernelspec": {
   "display_name": "Python 3",
   "language": "python",
   "name": "python3"
  },
  "language_info": {
   "codemirror_mode": {
    "name": "ipython",
    "version": 3
   },
   "file_extension": ".py",
   "mimetype": "text/x-python",
   "name": "python",
   "nbconvert_exporter": "python",
   "pygments_lexer": "ipython3",
   "version": "3.7.6"
  }
 },
 "nbformat": 4,
 "nbformat_minor": 4
}
